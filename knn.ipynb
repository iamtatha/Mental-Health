{
  "cells": [
    {
      "cell_type": "markdown",
      "metadata": {
        "id": "view-in-github",
        "colab_type": "text"
      },
      "source": [
        "<a href=\"https://colab.research.google.com/github/iamtatha/Mental-Health/blob/main/knn.ipynb\" target=\"_parent\"><img src=\"https://colab.research.google.com/assets/colab-badge.svg\" alt=\"Open In Colab\"/></a>"
      ]
    },
    {
      "cell_type": "code",
      "execution_count": null,
      "metadata": {
        "id": "HSroqnL5pc6f"
      },
      "outputs": [],
      "source": [
        "import pandas as pd\n",
        "import numpy as np\n",
        "import matplotlib.pyplot as plt\n",
        "from sklearn.preprocessing import MinMaxScaler\n",
        "from sklearn.preprocessing import StandardScaler\n",
        "from sklearn.model_selection import train_test_split\n",
        "from sklearn.ensemble import StackingClassifier\n",
        "import keras\n",
        "import tensorflow as tf\n",
        "from keras.models import Sequential\n",
        "from keras.layers import Dense\n",
        "from sklearn.metrics import accuracy_score\n",
        "from sklearn.ensemble import RandomForestRegressor, AdaBoostClassifier\n",
        "from sklearn.tree import DecisionTreeClassifier\n",
        "from sklearn.decomposition import PCA\n",
        "from sklearn.metrics import accuracy_score, precision_score, recall_score, f1_score\n",
        "from sklearn.metrics import confusion_matrix\n"
      ]
    },
    {
      "cell_type": "code",
      "execution_count": null,
      "metadata": {
        "id": "X2RTk86ypmdE"
      },
      "outputs": [],
      "source": [
        "def KNN():\n",
        "  X_values = pd.read_csv('https://raw.githubusercontent.com/iamtatha/Mental-Health/main/Data/train.csv')\n",
        "  Y_values = pd.read_csv('https://raw.githubusercontent.com/iamtatha/Mental-Health/main/Data/target.csv')\n",
        "    \n",
        "\n",
        "  df = pd.concat([X_values, Y_values],axis=1)\n",
        "\n",
        "  scaled_data = df\n",
        "  scaler = MinMaxScaler(feature_range=(0,1))\n",
        "  scaled_data = pd.DataFrame(scaler.fit_transform(scaled_data))\n",
        "\n",
        "  X_train, X_test, Y_train, Y_test = train_test_split(scaled_data.iloc[:,:-1], scaled_data.iloc[:,-1], train_size=0.70)\n",
        "\n",
        "  from sklearn.neighbors import KNeighborsClassifier\n",
        "  knnclassifier = KNeighborsClassifier(n_neighbors = 19)\n",
        "  knnclassifier.fit(X_train, Y_train)\n",
        "\n",
        "  y_predtrain = knnclassifier.predict(X_train)\n",
        "  y_predtest = knnclassifier.predict(X_test)\n",
        "  print(\"KNN Classifier Accuracy: \", accuracy_score(Y_train, y_predtrain))\n",
        "  print(\"KNN Classifier Accuracy: \", accuracy_score(Y_test, y_predtest))\n",
        "  print(\"Precision Score: \", precision_score(Y_test, y_predtest))\n",
        "  print(\"Recall Score: \", recall_score(Y_test, y_predtest))\n",
        "  print(\"F1 Score: \", f1_score(Y_test, y_predtest))\n",
        "      print(confusion_matrix(y_test, y_pred))"
      ]
    },
    {
      "cell_type": "code",
      "source": [
        "KNN()"
      ],
      "metadata": {
        "colab": {
          "base_uri": "https://localhost:8080/"
        },
        "id": "tHvZc7ayJhR3",
        "outputId": "78afbde8-f626-4217-f9f9-e0faa4fb058c"
      },
      "execution_count": null,
      "outputs": [
        {
          "output_type": "stream",
          "name": "stdout",
          "text": [
            "KNN Classifier Accuracy:  0.7412031782065834\n",
            "KNN Classifier Accuracy:  0.6666666666666666\n",
            "Precision Score:  0.7142857142857143\n",
            "Recall Score:  0.5729166666666666\n",
            "F1 Score:  0.6358381502890174\n"
          ]
        }
      ]
    },
    {
      "cell_type": "code",
      "source": [],
      "metadata": {
        "id": "kSfMmTKKj47l"
      },
      "execution_count": null,
      "outputs": []
    }
  ],
  "metadata": {
    "colab": {
      "provenance": [],
      "include_colab_link": true
    },
    "kernelspec": {
      "display_name": "Python 3",
      "name": "python3"
    },
    "language_info": {
      "name": "python"
    }
  },
  "nbformat": 4,
  "nbformat_minor": 0
}