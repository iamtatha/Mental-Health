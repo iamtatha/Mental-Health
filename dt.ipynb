{
  "nbformat": 4,
  "nbformat_minor": 0,
  "metadata": {
    "colab": {
      "provenance": [],
      "include_colab_link": true
    },
    "kernelspec": {
      "name": "python3",
      "display_name": "Python 3"
    },
    "language_info": {
      "name": "python"
    }
  },
  "cells": [
    {
      "cell_type": "markdown",
      "metadata": {
        "id": "view-in-github",
        "colab_type": "text"
      },
      "source": [
        "<a href=\"https://colab.research.google.com/github/iamtatha/Mental-Health/blob/main/dt.ipynb\" target=\"_parent\"><img src=\"https://colab.research.google.com/assets/colab-badge.svg\" alt=\"Open In Colab\"/></a>"
      ]
    },
    {
      "cell_type": "code",
      "execution_count": null,
      "metadata": {
        "colab": {
          "base_uri": "https://localhost:8080/"
        },
        "id": "VdIknEXPN8Po",
        "outputId": "e1472612-04be-4841-f949-eb65268516ef"
      },
      "outputs": [
        {
          "output_type": "stream",
          "name": "stdout",
          "text": [
            "Confusion Matrix: \n",
            "[[160  54]\n",
            " [ 14 213]]\n",
            "Accuracy :  84.58049886621315\n",
            "Report :                precision    recall  f1-score   support\n",
            "\n",
            "           0       0.92      0.75      0.82       214\n",
            "           1       0.80      0.94      0.86       227\n",
            "\n",
            "    accuracy                           0.85       441\n",
            "   macro avg       0.86      0.84      0.84       441\n",
            "weighted avg       0.86      0.85      0.84       441\n",
            "\n"
          ]
        }
      ],
      "source": [
        "import numpy as np\n",
        "import pandas as pd\n",
        "from sklearn.metrics import confusion_matrix\n",
        "from sklearn.model_selection import train_test_split\n",
        "from sklearn.tree import DecisionTreeClassifier\n",
        "from sklearn.metrics import accuracy_score\n",
        "from sklearn.metrics import classification_report\n",
        "from sklearn.preprocessing import MinMaxScaler\n",
        "from sklearn.preprocessing import StandardScaler\n",
        "from sklearn.decomposition import PCA\n",
        "\n",
        "def import_():\n",
        "\tdata = pd.read_csv('https://raw.githubusercontent.com/iamtatha/Mental-Health/main/Data/all_label_train.csv')\n",
        "\ttarget = pd.read_csv('https://raw.githubusercontent.com/iamtatha/Mental-Health/main/Data/all_label_target.csv')\n",
        "\n",
        "\treturn data, target\n",
        "\n",
        "def scale(data):\n",
        "  scaler = MinMaxScaler(feature_range=(0,1))\n",
        "  scaler = StandardScaler()\n",
        "  scaled_data = pd.DataFrame(scaler.fit_transform(data))\n",
        "  return data\n",
        "\n",
        "\n",
        "def split_(data, target):\n",
        "\tX_train, X_test, y_train, y_test = train_test_split(data, target, test_size = 0.35, random_state = 100)\n",
        "\treturn data, target, X_train, X_test, y_train, y_test\n",
        "\n",
        "def pca_analysis(X_train, X_test):\n",
        "  pca = PCA(n_components = 'mle')\n",
        "  X_train = pca.fit_transform(X_train)\n",
        "  X_test = pca.transform(X_test)\n",
        "  return X_train, X_test\n",
        "\n",
        "def train(X_train, X_test, y_train):\n",
        "\tmodel_dt = DecisionTreeClassifier(criterion = \"entropy\", splitter=\"best\" , random_state = 20, max_depth = 3) #change hp\n",
        "\n",
        "\tmodel_dt.fit(X_train, y_train)\n",
        "\treturn model_dt\n",
        "\n",
        "def pred(X_test, model_dt):\n",
        "\ty_pred = model_dt.predict(X_test)\n",
        "\treturn y_pred\n",
        "\t\n",
        "def accuracy(y_test, y_pred):\n",
        "    print(\"Confusion Matrix: \")\n",
        "    print(confusion_matrix(y_test, y_pred))\n",
        "    print (\"Accuracy : \",accuracy_score(y_test,y_pred)*100)\n",
        "    print(\"Report : \",classification_report(y_test, y_pred))\n",
        "\n",
        "def main():\n",
        "  data, target = import_()\n",
        "  data = scale(data)\n",
        "  data, target, X_train, X_test, y_train, y_test = split_(data, target)\n",
        "  X_train, X_test = pca_analysis(X_train, X_test)\n",
        "  model_dt = train(X_train, X_test, y_train)\n",
        "\n",
        "  y_pred = pred(X_test, model_dt)\n",
        "  accuracy(y_test, y_pred)\n",
        "\t\n",
        "if __name__==\"__main__\":\n",
        "\tmain()\n"
      ]
    },
    {
      "cell_type": "code",
      "source": [],
      "metadata": {
        "id": "E7_x2n8DOMAr"
      },
      "execution_count": null,
      "outputs": []
    }
  ]
}