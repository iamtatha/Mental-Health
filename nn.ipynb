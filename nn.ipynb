{
  "nbformat": 4,
  "nbformat_minor": 0,
  "metadata": {
    "colab": {
      "provenance": [],
      "include_colab_link": true
    },
    "kernelspec": {
      "name": "python3",
      "display_name": "Python 3"
    },
    "language_info": {
      "name": "python"
    }
  },
  "cells": [
    {
      "cell_type": "markdown",
      "metadata": {
        "id": "view-in-github",
        "colab_type": "text"
      },
      "source": [
        "<a href=\"https://colab.research.google.com/github/iamtatha/Mental-Health/blob/main/nn.ipynb\" target=\"_parent\"><img src=\"https://colab.research.google.com/assets/colab-badge.svg\" alt=\"Open In Colab\"/></a>"
      ]
    },
    {
      "cell_type": "markdown",
      "source": [
        "Importing Libraries"
      ],
      "metadata": {
        "id": "WVFaPpHPQVto"
      }
    },
    {
      "cell_type": "code",
      "execution_count": null,
      "metadata": {
        "id": "iYODX8LXz9-p"
      },
      "outputs": [],
      "source": [
        "import pandas as pd\n",
        "import numpy as np\n",
        "import matplotlib.pyplot as plt\n",
        "from sklearn.preprocessing import MinMaxScaler\n",
        "from sklearn.model_selection import train_test_split\n",
        "import keras\n",
        "import tensorflow as tf\n",
        "from keras.models import Sequential\n",
        "from keras.layers import Dense\n",
        "from sklearn.metrics import accuracy_score, precision_score, recall_score, f1_score, confusion_matrix\n",
        "from sklearn.metrics import roc_curve, auc\n",
        "from sklearn.decomposition import PCA"
      ]
    },
    {
      "cell_type": "markdown",
      "source": [
        "Importing Dataset"
      ],
      "metadata": {
        "id": "zhkeDZipQZIm"
      }
    },
    {
      "cell_type": "code",
      "source": [
        "# X_values = pd.read_csv('https://raw.githubusercontent.com/iamtatha/Mental-Health/main/Data/all_label_train.csv')\n",
        "# Y_values = pd.read_csv('https://raw.githubusercontent.com/iamtatha/Mental-Health/main/Data/all_label_target.csv')\n",
        "\n",
        "X_values = pd.read_csv('https://raw.githubusercontent.com/iamtatha/Mental-Health/main/Data/train.csv')\n",
        "Y_values = pd.read_csv('https://raw.githubusercontent.com/iamtatha/Mental-Health/main/Data/target.csv')\n",
        "\n",
        "\n",
        "df = pd.concat([X_values, Y_values],axis=1)\n",
        "\n",
        "scaled_data = df\n",
        "# scaler = MinMaxScaler(feature_range=(0,1))\n",
        "# scaled_data = pd.DataFrame(scaler.fit_transform(scaled_data))\n",
        "\n",
        "X_train, X_test, Y_train, Y_test = train_test_split(scaled_data.iloc[:,:-1], scaled_data.iloc[:,-1], train_size=0.90)\n",
        "n = np.array(X_train).shape[1]"
      ],
      "metadata": {
        "id": "t_b0cf3E0BmM"
      },
      "execution_count": null,
      "outputs": []
    },
    {
      "cell_type": "markdown",
      "source": [
        "PCA"
      ],
      "metadata": {
        "id": "qJgbdcUgBQkL"
      }
    },
    {
      "cell_type": "code",
      "source": [
        "pca = PCA(n_components = 'mle')\n",
        "X_train = pca.fit_transform(X_train)\n",
        "X_test = pca.transform(X_test)\n",
        "n = np.array(X_train).shape[1]\n",
        "print(n)"
      ],
      "metadata": {
        "colab": {
          "base_uri": "https://localhost:8080/"
        },
        "id": "YlNMoH8sBPe-",
        "outputId": "79d23e4b-b670-4415-e9d4-0ab8abf70fdb"
      },
      "execution_count": null,
      "outputs": [
        {
          "output_type": "stream",
          "name": "stdout",
          "text": [
            "41\n"
          ]
        }
      ]
    },
    {
      "cell_type": "markdown",
      "source": [
        "Building the Neural Network"
      ],
      "metadata": {
        "id": "omq49AGPQbyq"
      }
    },
    {
      "cell_type": "code",
      "source": [
        "model = Sequential()\n",
        "model.add(Dense(20, input_dim = n, activation = 'relu'))\n",
        "model.add(Dense(10, activation = 'relu'))\n",
        "model.add(Dense(1, activation = 'sigmoid'))\n",
        "\n",
        "model.compile(loss='categorical_crossentropy', optimizer='RMSprop', metrics=['accuracy', 'mse'])"
      ],
      "metadata": {
        "id": "42oEhRVf0Cy-"
      },
      "execution_count": null,
      "outputs": []
    },
    {
      "cell_type": "markdown",
      "source": [
        "Training the Model"
      ],
      "metadata": {
        "id": "wiMMWZ3rQeAX"
      }
    },
    {
      "cell_type": "code",
      "source": [
        "learnt = model.fit(X_train, Y_train, epochs=100, batch_size=64)"
      ],
      "metadata": {
        "colab": {
          "base_uri": "https://localhost:8080/"
        },
        "id": "fMiWPrj_40lz",
        "outputId": "059047de-484c-49b0-84a9-e797fca416fd"
      },
      "execution_count": null,
      "outputs": [
        {
          "output_type": "stream",
          "name": "stdout",
          "text": [
            "Epoch 1/100\n",
            "18/18 [==============================] - 1s 2ms/step - loss: 0.0000e+00 - accuracy: 0.5322 - mse: 0.4351\n",
            "Epoch 2/100\n",
            "18/18 [==============================] - 0s 2ms/step - loss: 0.0000e+00 - accuracy: 0.4890 - mse: 0.5091\n",
            "Epoch 3/100\n",
            "18/18 [==============================] - 0s 2ms/step - loss: 0.0000e+00 - accuracy: 0.4890 - mse: 0.5110\n",
            "Epoch 4/100\n",
            "18/18 [==============================] - 0s 2ms/step - loss: 0.0000e+00 - accuracy: 0.4890 - mse: 0.5110\n",
            "Epoch 5/100\n",
            "18/18 [==============================] - 0s 2ms/step - loss: 0.0000e+00 - accuracy: 0.4890 - mse: 0.5110\n",
            "Epoch 6/100\n",
            "18/18 [==============================] - 0s 3ms/step - loss: 0.0000e+00 - accuracy: 0.4890 - mse: 0.5110\n",
            "Epoch 7/100\n",
            "18/18 [==============================] - 0s 2ms/step - loss: 0.0000e+00 - accuracy: 0.4890 - mse: 0.5110\n",
            "Epoch 8/100\n",
            "18/18 [==============================] - 0s 2ms/step - loss: 0.0000e+00 - accuracy: 0.4890 - mse: 0.5110\n",
            "Epoch 9/100\n",
            "18/18 [==============================] - 0s 2ms/step - loss: 0.0000e+00 - accuracy: 0.4890 - mse: 0.5110\n",
            "Epoch 10/100\n",
            "18/18 [==============================] - 0s 2ms/step - loss: 0.0000e+00 - accuracy: 0.4890 - mse: 0.5110\n",
            "Epoch 11/100\n",
            "18/18 [==============================] - 0s 2ms/step - loss: 0.0000e+00 - accuracy: 0.4890 - mse: 0.5110\n",
            "Epoch 12/100\n",
            "18/18 [==============================] - 0s 2ms/step - loss: 0.0000e+00 - accuracy: 0.4890 - mse: 0.5110\n",
            "Epoch 13/100\n",
            "18/18 [==============================] - 0s 2ms/step - loss: 0.0000e+00 - accuracy: 0.4890 - mse: 0.5110\n",
            "Epoch 14/100\n",
            "18/18 [==============================] - 0s 2ms/step - loss: 0.0000e+00 - accuracy: 0.4890 - mse: 0.5110\n",
            "Epoch 15/100\n",
            "18/18 [==============================] - 0s 2ms/step - loss: 0.0000e+00 - accuracy: 0.4890 - mse: 0.5110\n",
            "Epoch 16/100\n",
            "18/18 [==============================] - 0s 2ms/step - loss: 0.0000e+00 - accuracy: 0.4890 - mse: 0.5110\n",
            "Epoch 17/100\n",
            "18/18 [==============================] - 0s 2ms/step - loss: 0.0000e+00 - accuracy: 0.4890 - mse: 0.5110\n",
            "Epoch 18/100\n",
            "18/18 [==============================] - 0s 2ms/step - loss: 0.0000e+00 - accuracy: 0.4890 - mse: 0.5110\n",
            "Epoch 19/100\n",
            "18/18 [==============================] - 0s 3ms/step - loss: 0.0000e+00 - accuracy: 0.4890 - mse: 0.5110\n",
            "Epoch 20/100\n",
            "18/18 [==============================] - 0s 3ms/step - loss: 0.0000e+00 - accuracy: 0.4890 - mse: 0.5110\n",
            "Epoch 21/100\n",
            "18/18 [==============================] - 0s 2ms/step - loss: 0.0000e+00 - accuracy: 0.4890 - mse: 0.5110\n",
            "Epoch 22/100\n",
            "18/18 [==============================] - 0s 2ms/step - loss: 0.0000e+00 - accuracy: 0.4890 - mse: 0.5110\n",
            "Epoch 23/100\n",
            "18/18 [==============================] - 0s 2ms/step - loss: 0.0000e+00 - accuracy: 0.4890 - mse: 0.5110\n",
            "Epoch 24/100\n",
            "18/18 [==============================] - 0s 2ms/step - loss: 0.0000e+00 - accuracy: 0.4890 - mse: 0.5110\n",
            "Epoch 25/100\n",
            "18/18 [==============================] - 0s 2ms/step - loss: 0.0000e+00 - accuracy: 0.4890 - mse: 0.5110\n",
            "Epoch 26/100\n",
            "18/18 [==============================] - 0s 2ms/step - loss: 0.0000e+00 - accuracy: 0.4890 - mse: 0.5110\n",
            "Epoch 27/100\n",
            "18/18 [==============================] - 0s 2ms/step - loss: 0.0000e+00 - accuracy: 0.4890 - mse: 0.5110\n",
            "Epoch 28/100\n",
            "18/18 [==============================] - 0s 4ms/step - loss: 0.0000e+00 - accuracy: 0.4890 - mse: 0.5110\n",
            "Epoch 29/100\n",
            "18/18 [==============================] - 0s 2ms/step - loss: 0.0000e+00 - accuracy: 0.4890 - mse: 0.5110\n",
            "Epoch 30/100\n",
            "18/18 [==============================] - 0s 3ms/step - loss: 0.0000e+00 - accuracy: 0.4890 - mse: 0.5110\n",
            "Epoch 31/100\n",
            "18/18 [==============================] - 0s 2ms/step - loss: 0.0000e+00 - accuracy: 0.4890 - mse: 0.5110\n",
            "Epoch 32/100\n",
            "18/18 [==============================] - 0s 2ms/step - loss: 0.0000e+00 - accuracy: 0.4890 - mse: 0.5110\n",
            "Epoch 33/100\n",
            "18/18 [==============================] - 0s 2ms/step - loss: 0.0000e+00 - accuracy: 0.4890 - mse: 0.5110\n",
            "Epoch 34/100\n",
            "18/18 [==============================] - 0s 2ms/step - loss: 0.0000e+00 - accuracy: 0.4890 - mse: 0.5110\n",
            "Epoch 35/100\n",
            "18/18 [==============================] - 0s 2ms/step - loss: 0.0000e+00 - accuracy: 0.4890 - mse: 0.5110\n",
            "Epoch 36/100\n",
            "18/18 [==============================] - 0s 2ms/step - loss: 0.0000e+00 - accuracy: 0.4890 - mse: 0.5110\n",
            "Epoch 37/100\n",
            "18/18 [==============================] - 0s 2ms/step - loss: 0.0000e+00 - accuracy: 0.4890 - mse: 0.5110\n",
            "Epoch 38/100\n",
            "18/18 [==============================] - 0s 2ms/step - loss: 0.0000e+00 - accuracy: 0.4890 - mse: 0.5110\n",
            "Epoch 39/100\n",
            "18/18 [==============================] - 0s 2ms/step - loss: 0.0000e+00 - accuracy: 0.4890 - mse: 0.5110\n",
            "Epoch 40/100\n",
            "18/18 [==============================] - 0s 2ms/step - loss: 0.0000e+00 - accuracy: 0.4890 - mse: 0.5110\n",
            "Epoch 41/100\n",
            "18/18 [==============================] - 0s 2ms/step - loss: 0.0000e+00 - accuracy: 0.4890 - mse: 0.5110\n",
            "Epoch 42/100\n",
            "18/18 [==============================] - 0s 2ms/step - loss: 0.0000e+00 - accuracy: 0.4890 - mse: 0.5110\n",
            "Epoch 43/100\n",
            "18/18 [==============================] - 0s 2ms/step - loss: 0.0000e+00 - accuracy: 0.4890 - mse: 0.5110\n",
            "Epoch 44/100\n",
            "18/18 [==============================] - 0s 2ms/step - loss: 0.0000e+00 - accuracy: 0.4890 - mse: 0.5110\n",
            "Epoch 45/100\n",
            "18/18 [==============================] - 0s 2ms/step - loss: 0.0000e+00 - accuracy: 0.4890 - mse: 0.5110\n",
            "Epoch 46/100\n",
            "18/18 [==============================] - 0s 2ms/step - loss: 0.0000e+00 - accuracy: 0.4890 - mse: 0.5110\n",
            "Epoch 47/100\n",
            "18/18 [==============================] - 0s 2ms/step - loss: 0.0000e+00 - accuracy: 0.4890 - mse: 0.5110\n",
            "Epoch 48/100\n",
            "18/18 [==============================] - 0s 2ms/step - loss: 0.0000e+00 - accuracy: 0.4890 - mse: 0.5110\n",
            "Epoch 49/100\n",
            "18/18 [==============================] - 0s 2ms/step - loss: 0.0000e+00 - accuracy: 0.4890 - mse: 0.5110\n",
            "Epoch 50/100\n",
            "18/18 [==============================] - 0s 2ms/step - loss: 0.0000e+00 - accuracy: 0.4890 - mse: 0.5110\n",
            "Epoch 51/100\n",
            "18/18 [==============================] - 0s 2ms/step - loss: 0.0000e+00 - accuracy: 0.4890 - mse: 0.5110\n",
            "Epoch 52/100\n",
            "18/18 [==============================] - 0s 2ms/step - loss: 0.0000e+00 - accuracy: 0.4890 - mse: 0.5110\n",
            "Epoch 53/100\n",
            "18/18 [==============================] - 0s 2ms/step - loss: 0.0000e+00 - accuracy: 0.4890 - mse: 0.5110\n",
            "Epoch 54/100\n",
            "18/18 [==============================] - 0s 2ms/step - loss: 0.0000e+00 - accuracy: 0.4890 - mse: 0.5110\n",
            "Epoch 55/100\n",
            "18/18 [==============================] - 0s 2ms/step - loss: 0.0000e+00 - accuracy: 0.4890 - mse: 0.5110\n",
            "Epoch 56/100\n",
            "18/18 [==============================] - 0s 2ms/step - loss: 0.0000e+00 - accuracy: 0.4890 - mse: 0.5110\n",
            "Epoch 57/100\n",
            "18/18 [==============================] - 0s 2ms/step - loss: 0.0000e+00 - accuracy: 0.4890 - mse: 0.5110\n",
            "Epoch 58/100\n",
            "18/18 [==============================] - 0s 2ms/step - loss: 0.0000e+00 - accuracy: 0.4890 - mse: 0.5110\n",
            "Epoch 59/100\n",
            "18/18 [==============================] - 0s 2ms/step - loss: 0.0000e+00 - accuracy: 0.4890 - mse: 0.5110\n",
            "Epoch 60/100\n",
            "18/18 [==============================] - 0s 2ms/step - loss: 0.0000e+00 - accuracy: 0.4890 - mse: 0.5110\n",
            "Epoch 61/100\n",
            "18/18 [==============================] - 0s 2ms/step - loss: 0.0000e+00 - accuracy: 0.4890 - mse: 0.5110\n",
            "Epoch 62/100\n",
            "18/18 [==============================] - 0s 2ms/step - loss: 0.0000e+00 - accuracy: 0.4890 - mse: 0.5110\n",
            "Epoch 63/100\n",
            "18/18 [==============================] - 0s 2ms/step - loss: 0.0000e+00 - accuracy: 0.4890 - mse: 0.5110\n",
            "Epoch 64/100\n",
            "18/18 [==============================] - 0s 2ms/step - loss: 0.0000e+00 - accuracy: 0.4890 - mse: 0.5110\n",
            "Epoch 65/100\n",
            "18/18 [==============================] - 0s 2ms/step - loss: 0.0000e+00 - accuracy: 0.4890 - mse: 0.5110\n",
            "Epoch 66/100\n",
            "18/18 [==============================] - 0s 2ms/step - loss: 0.0000e+00 - accuracy: 0.4890 - mse: 0.5110\n",
            "Epoch 67/100\n",
            "18/18 [==============================] - 0s 2ms/step - loss: 0.0000e+00 - accuracy: 0.4890 - mse: 0.5110\n",
            "Epoch 68/100\n",
            "18/18 [==============================] - 0s 2ms/step - loss: 0.0000e+00 - accuracy: 0.4890 - mse: 0.5110\n",
            "Epoch 69/100\n",
            "18/18 [==============================] - 0s 2ms/step - loss: 0.0000e+00 - accuracy: 0.4890 - mse: 0.5110\n",
            "Epoch 70/100\n",
            "18/18 [==============================] - 0s 2ms/step - loss: 0.0000e+00 - accuracy: 0.4890 - mse: 0.5110\n",
            "Epoch 71/100\n",
            "18/18 [==============================] - 0s 2ms/step - loss: 0.0000e+00 - accuracy: 0.4890 - mse: 0.5110\n",
            "Epoch 72/100\n",
            "18/18 [==============================] - 0s 2ms/step - loss: 0.0000e+00 - accuracy: 0.4890 - mse: 0.5110\n",
            "Epoch 73/100\n",
            "18/18 [==============================] - 0s 2ms/step - loss: 0.0000e+00 - accuracy: 0.4890 - mse: 0.5110\n",
            "Epoch 74/100\n",
            "18/18 [==============================] - 0s 2ms/step - loss: 0.0000e+00 - accuracy: 0.4890 - mse: 0.5110\n",
            "Epoch 75/100\n",
            "18/18 [==============================] - 0s 2ms/step - loss: 0.0000e+00 - accuracy: 0.4890 - mse: 0.5110\n",
            "Epoch 76/100\n",
            "18/18 [==============================] - 0s 2ms/step - loss: 0.0000e+00 - accuracy: 0.4890 - mse: 0.5110\n",
            "Epoch 77/100\n",
            "18/18 [==============================] - 0s 2ms/step - loss: 0.0000e+00 - accuracy: 0.4890 - mse: 0.5110\n",
            "Epoch 78/100\n",
            "18/18 [==============================] - 0s 2ms/step - loss: 0.0000e+00 - accuracy: 0.4890 - mse: 0.5110\n",
            "Epoch 79/100\n",
            "18/18 [==============================] - 0s 2ms/step - loss: 0.0000e+00 - accuracy: 0.4890 - mse: 0.5110\n",
            "Epoch 80/100\n",
            "18/18 [==============================] - 0s 2ms/step - loss: 0.0000e+00 - accuracy: 0.4890 - mse: 0.5110\n",
            "Epoch 81/100\n",
            "18/18 [==============================] - 0s 2ms/step - loss: 0.0000e+00 - accuracy: 0.4890 - mse: 0.5110\n",
            "Epoch 82/100\n",
            "18/18 [==============================] - 0s 2ms/step - loss: 0.0000e+00 - accuracy: 0.4890 - mse: 0.5110\n",
            "Epoch 83/100\n",
            "18/18 [==============================] - 0s 2ms/step - loss: 0.0000e+00 - accuracy: 0.4890 - mse: 0.5110\n",
            "Epoch 84/100\n",
            "18/18 [==============================] - 0s 2ms/step - loss: 0.0000e+00 - accuracy: 0.4890 - mse: 0.5110\n",
            "Epoch 85/100\n",
            "18/18 [==============================] - 0s 2ms/step - loss: 0.0000e+00 - accuracy: 0.4890 - mse: 0.5110\n",
            "Epoch 86/100\n",
            "18/18 [==============================] - 0s 2ms/step - loss: 0.0000e+00 - accuracy: 0.4890 - mse: 0.5110\n",
            "Epoch 87/100\n",
            "18/18 [==============================] - 0s 2ms/step - loss: 0.0000e+00 - accuracy: 0.4890 - mse: 0.5110\n",
            "Epoch 88/100\n",
            "18/18 [==============================] - 0s 2ms/step - loss: 0.0000e+00 - accuracy: 0.4890 - mse: 0.5110\n",
            "Epoch 89/100\n",
            "18/18 [==============================] - 0s 2ms/step - loss: 0.0000e+00 - accuracy: 0.4890 - mse: 0.5110\n",
            "Epoch 90/100\n",
            "18/18 [==============================] - 0s 2ms/step - loss: 0.0000e+00 - accuracy: 0.4890 - mse: 0.5110\n",
            "Epoch 91/100\n",
            "18/18 [==============================] - 0s 2ms/step - loss: 0.0000e+00 - accuracy: 0.4890 - mse: 0.5110\n",
            "Epoch 92/100\n",
            "18/18 [==============================] - 0s 2ms/step - loss: 0.0000e+00 - accuracy: 0.4890 - mse: 0.5110\n",
            "Epoch 93/100\n",
            "18/18 [==============================] - 0s 2ms/step - loss: 0.0000e+00 - accuracy: 0.4890 - mse: 0.5110\n",
            "Epoch 94/100\n",
            "18/18 [==============================] - 0s 2ms/step - loss: 0.0000e+00 - accuracy: 0.4890 - mse: 0.5110\n",
            "Epoch 95/100\n",
            "18/18 [==============================] - 0s 2ms/step - loss: 0.0000e+00 - accuracy: 0.4890 - mse: 0.5110\n",
            "Epoch 96/100\n",
            "18/18 [==============================] - 0s 2ms/step - loss: 0.0000e+00 - accuracy: 0.4890 - mse: 0.5110\n",
            "Epoch 97/100\n",
            "18/18 [==============================] - 0s 2ms/step - loss: 0.0000e+00 - accuracy: 0.4890 - mse: 0.5110\n",
            "Epoch 98/100\n",
            "18/18 [==============================] - 0s 2ms/step - loss: 0.0000e+00 - accuracy: 0.4890 - mse: 0.5110\n",
            "Epoch 99/100\n",
            "18/18 [==============================] - 0s 2ms/step - loss: 0.0000e+00 - accuracy: 0.4890 - mse: 0.5110\n",
            "Epoch 100/100\n",
            "18/18 [==============================] - 0s 2ms/step - loss: 0.0000e+00 - accuracy: 0.4890 - mse: 0.5110\n"
          ]
        }
      ]
    },
    {
      "cell_type": "code",
      "source": [
        "Y_pred = model.predict(X_test)\n",
        "X = []\n",
        "for i in range(len(list(Y_pred))):\n",
        "  X.append(i+1)\n",
        "\n",
        "# plt.scatter(X, Y_pred, label = 'Predicted')\n",
        "# plt.scatter(X, Y_test, label = 'Actual')\n",
        "# plt.legend()\n",
        "# plt.show()"
      ],
      "metadata": {
        "colab": {
          "base_uri": "https://localhost:8080/"
        },
        "id": "yAdkhCRW8x2V",
        "outputId": "7bb97560-b519-42a3-b190-279a4004ab65"
      },
      "execution_count": null,
      "outputs": [
        {
          "output_type": "stream",
          "name": "stdout",
          "text": [
            "4/4 [==============================] - 0s 3ms/step\n"
          ]
        }
      ]
    },
    {
      "cell_type": "markdown",
      "source": [
        "Calculating Accuracy"
      ],
      "metadata": {
        "id": "TLJy3NiWQh_k"
      }
    },
    {
      "cell_type": "code",
      "source": [
        "n = Y_pred.shape[0]\n",
        "Error = 0\n",
        "l = []\n",
        "for i in Y_pred:\n",
        "  l.append(i[0])\n",
        "Y_pred = np.array(l)\n",
        "Y_test = list(Y_test)\n",
        "Wrong_y = []\n",
        "Right_y = []\n",
        "\n",
        "for i in range(len(Y_pred)):\n",
        "  Error += abs(int(Y_pred[i]) - int(Y_test[i]))\n",
        "  if (int(Y_pred[i]) != int(Y_test[i])):\n",
        "    Wrong_y.append(int(Y_test[i]))\n",
        "  else:\n",
        "    Right_y.append(int(Y_test[i]))\n",
        "\n",
        "acc = 1 - Error/n\n",
        "print(\"Accuracy is: \", acc)"
      ],
      "metadata": {
        "colab": {
          "base_uri": "https://localhost:8080/"
        },
        "id": "fU0cuZy69Hcl",
        "outputId": "f3843637-160b-4f5d-afc7-691f7a97cca8"
      },
      "execution_count": null,
      "outputs": [
        {
          "output_type": "stream",
          "name": "stdout",
          "text": [
            "Accuracy is:  0.626984126984127\n"
          ]
        }
      ]
    },
    {
      "cell_type": "markdown",
      "source": [
        "Confusion Matrix"
      ],
      "metadata": {
        "id": "wJho9_k6QkAf"
      }
    },
    {
      "cell_type": "code",
      "source": [
        "confusion = [[Right_y.count(1), Wrong_y.count(1)] ,[Wrong_y.count(0), Right_y.count(0)]]\n",
        "confusion = pd.DataFrame(confusion)\n",
        "confusion.columns = [\"Predicted y=1\", \"Predicted y=0\"]\n",
        "confusion.index = [\"Actual y=1\", \"Actual y=0\"]\n",
        "print(confusion)"
      ],
      "metadata": {
        "colab": {
          "base_uri": "https://localhost:8080/"
        },
        "id": "OHiHkW_x_Ndv",
        "outputId": "7f5a2960-279e-457c-d9e4-ffd94e0c8fe5"
      },
      "execution_count": null,
      "outputs": [
        {
          "output_type": "stream",
          "name": "stdout",
          "text": [
            "            Predicted y=1  Predicted y=0\n",
            "Actual y=1              0             63\n",
            "Actual y=0              0             63\n"
          ]
        }
      ]
    },
    {
      "cell_type": "code",
      "source": [
        "zero = list(model.predict(X_train).ravel()).count(0)\n",
        "tot = len(list(model.predict(X_train).ravel()))\n",
        "print(tot, zero)"
      ],
      "metadata": {
        "colab": {
          "base_uri": "https://localhost:8080/"
        },
        "id": "LqPaS53zC4KS",
        "outputId": "6ae8ba12-0dda-4fe9-8120-359ca18585cf"
      },
      "execution_count": null,
      "outputs": [
        {
          "output_type": "stream",
          "name": "stdout",
          "text": [
            "36/36 [==============================] - 0s 2ms/step\n",
            "36/36 [==============================] - 0s 2ms/step\n",
            "1133 1126\n"
          ]
        }
      ]
    },
    {
      "cell_type": "code",
      "source": [
        "false_pos, true_pos, _ = roc_curve(Y_test, Y_pred)\n",
        "roc_auc = auc(false_pos, true_pos)"
      ],
      "metadata": {
        "id": "WuU5C0rxFWVS"
      },
      "execution_count": null,
      "outputs": []
    },
    {
      "cell_type": "code",
      "source": [
        "false_pos, true_pos"
      ],
      "metadata": {
        "colab": {
          "base_uri": "https://localhost:8080/"
        },
        "id": "Byp5q8YbsVhj",
        "outputId": "9e7134c0-88f9-4367-8d35-e0beacef863f"
      },
      "execution_count": null,
      "outputs": [
        {
          "output_type": "execute_result",
          "data": {
            "text/plain": [
              "(array([0., 1.]), array([0., 1.]))"
            ]
          },
          "metadata": {},
          "execution_count": 49
        }
      ]
    },
    {
      "cell_type": "code",
      "source": [
        "plt.plot(false_pos, true_pos)\n",
        "# plt.plot([0,1], [0,1])"
      ],
      "metadata": {
        "colab": {
          "base_uri": "https://localhost:8080/",
          "height": 282
        },
        "id": "D23OLFKWqDpN",
        "outputId": "75a52c9e-503a-4c1d-c9b9-b1cd01b7a8a4"
      },
      "execution_count": null,
      "outputs": [
        {
          "output_type": "execute_result",
          "data": {
            "text/plain": [
              "[<matplotlib.lines.Line2D at 0x7f348f16b590>]"
            ]
          },
          "metadata": {},
          "execution_count": 46
        },
        {
          "output_type": "display_data",
          "data": {
            "text/plain": [
              "<Figure size 432x288 with 1 Axes>"
            ],
            "image/png": "[encoded data removed]"
          },
          "metadata": {
            "needs_background": "light"
          }
        }
      ]
    },
    {
      "cell_type": "code",
      "source": [
        "print(accuracy_score(Y_test, Y_pred))\n",
        "print(precision_score(Y_test, Y_pred))\n",
        "print(recall_score(Y_test, Y_pred))\n",
        "print(f1_score(Y_test, Y_pred))\n",
        "print(confusion_matrix(Y_test, Y_pred))"
      ],
      "metadata": {
        "colab": {
          "base_uri": "https://localhost:8080/"
        },
        "id": "qIs8qPFQefYK",
        "outputId": "3b716b1b-2cf8-4d7f-8ed2-07f498b4686e"
      },
      "execution_count": null,
      "outputs": [
        {
          "output_type": "stream",
          "name": "stdout",
          "text": [
            "0.5396825396825397\n",
            "0.0\n",
            "0.0\n",
            "0.0\n",
            "[[68  0]\n",
            " [58  0]]\n"
          ]
        },
        {
          "output_type": "stream",
          "name": "stderr",
          "text": [
            "/usr/local/lib/python3.7/dist-packages/sklearn/metrics/_classification.py:1318: UndefinedMetricWarning: Precision is ill-defined and being set to 0.0 due to no predicted samples. Use `zero_division` parameter to control this behavior.\n",
            "  _warn_prf(average, modifier, msg_start, len(result))\n"
          ]
        }
      ]
    },
    {
      "cell_type": "code",
      "source": [
        "print(accuracy_score(Y_test, Y_pred))\n",
        "print(precision_score(Y_test, Y_pred))\n",
        "print(recall_score(Y_test, Y_pred))\n",
        "print(f1_score(Y_test, Y_pred))\n",
        "print(confusion_matrix(Y_test, Y_pred))"
      ],
      "metadata": {
        "colab": {
          "base_uri": "https://localhost:8080/"
        },
        "id": "DPtMjhkvsRT5",
        "outputId": "59c98351-857a-41e6-9e69-916af2d1bb01"
      },
      "execution_count": null,
      "outputs": [
        {
          "output_type": "stream",
          "name": "stdout",
          "text": [
            "0.626984126984127\n",
            "0.0\n",
            "0.0\n",
            "0.0\n",
            "[[79  0]\n",
            " [47  0]]\n"
          ]
        },
        {
          "output_type": "stream",
          "name": "stderr",
          "text": [
            "/usr/local/lib/python3.7/dist-packages/sklearn/metrics/_classification.py:1318: UndefinedMetricWarning: Precision is ill-defined and being set to 0.0 due to no predicted samples. Use `zero_division` parameter to control this behavior.\n",
            "  _warn_prf(average, modifier, msg_start, len(result))\n"
          ]
        }
      ]
    },
    {
      "cell_type": "code",
      "source": [],
      "metadata": {
        "id": "Qpyp0w0EeHZZ"
      },
      "execution_count": null,
      "outputs": []
    }
  ]
}